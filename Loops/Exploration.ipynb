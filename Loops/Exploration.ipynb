{
 "cells": [
  {
   "attachments": {},
   "cell_type": "markdown",
   "metadata": {},
   "source": [
    "# **LoopsResultsExploration**"
   ]
  },
  {
   "attachments": {},
   "cell_type": "markdown",
   "metadata": {},
   "source": [
    "## **1. Importing and First Proccesing**"
   ]
  },
  {
   "cell_type": "code",
   "execution_count": 3,
   "metadata": {},
   "outputs": [],
   "source": [
    "import pandas as pd\n",
    "from DataCleaning import *\n",
    "from ProcessingConfig import *\n",
    "\n",
    "pd.options.display.max_columns = 50"
   ]
  },
  {
   "cell_type": "code",
   "execution_count": 4,
   "metadata": {},
   "outputs": [
    {
     "name": "stdout",
     "output_type": "stream",
     "text": [
      "-- drop_first_loop: 1630 rows were filtered out.\n",
      "-- drop_first_line: 9227 rows were filtered out.\n"
     ]
    }
   ],
   "source": [
    "raw_data = pd.read_excel(cleaning_config['raw_data_path'])\n",
    "\n",
    "# partial cleaning\n",
    "drop_columns(raw_data, cleaning_config['unnecessary_columns'])\n",
    "convert_types(raw_data, cleaning_config['type_conversions'])\n",
    "raw_data = drop_first_loop(raw_data)\n",
    "raw_data = only_first_line(raw_data)"
   ]
  },
  {
   "cell_type": "code",
   "execution_count": 5,
   "metadata": {},
   "outputs": [
    {
     "name": "stdout",
     "output_type": "stream",
     "text": [
      "<class 'pandas.core.frame.DataFrame'>\n",
      "Int64Index: 2437 entries, 6 to 13287\n",
      "Data columns (total 25 columns):\n",
      " #   Column                        Non-Null Count  Dtype  \n",
      "---  ------                        --------------  -----  \n",
      " 0   subject                       2437 non-null   object \n",
      " 1   step_num                      2437 non-null   int64  \n",
      " 2   uid                           2437 non-null   int64  \n",
      " 3   trial_start_time              2437 non-null   int64  \n",
      " 4   rt                            2437 non-null   int32  \n",
      " 5   response                      2437 non-null   object \n",
      " 6   loop_step                     2437 non-null   int32  \n",
      " 7   trial_order                   2437 non-null   int64  \n",
      " 8   trial_set                     2437 non-null   int64  \n",
      " 9   trial                         2437 non-null   int64  \n",
      " 10  core_program                  2437 non-null   int64  \n",
      " 11  variant                       2437 non-null   object \n",
      " 12  step_id                       2437 non-null   int64  \n",
      " 13  text1                         2437 non-null   object \n",
      " 14  response_needed               2437 non-null   bool   \n",
      " 15  expected_response             2437 non-null   float64\n",
      " 16  is_loop                       2437 non-null   bool   \n",
      " 17  loop_type                     2437 non-null   object \n",
      " 18  loop_type_switch              2437 non-null   bool   \n",
      " 19  n_iterations                  2437 non-null   int64  \n",
      " 20  n_loop_lines                  2437 non-null   int64  \n",
      " 21  expected_response_whole_loop  2437 non-null   object \n",
      " 22  step_type                     2437 non-null   object \n",
      " 23  prev_loop_type                2436 non-null   object \n",
      " 24  correct                       2437 non-null   bool   \n",
      "dtypes: bool(4), float64(1), int32(2), int64(10), object(8)\n",
      "memory usage: 409.3+ KB\n"
     ]
    }
   ],
   "source": [
    "raw_data.info()"
   ]
  },
  {
   "cell_type": "code",
   "execution_count": 6,
   "metadata": {},
   "outputs": [
    {
     "data": {
      "text/html": [
       "<div>\n",
       "<style scoped>\n",
       "    .dataframe tbody tr th:only-of-type {\n",
       "        vertical-align: middle;\n",
       "    }\n",
       "\n",
       "    .dataframe tbody tr th {\n",
       "        vertical-align: top;\n",
       "    }\n",
       "\n",
       "    .dataframe thead th {\n",
       "        text-align: right;\n",
       "    }\n",
       "</style>\n",
       "<table border=\"1\" class=\"dataframe\">\n",
       "  <thead>\n",
       "    <tr style=\"text-align: right;\">\n",
       "      <th></th>\n",
       "      <th>subject</th>\n",
       "      <th>step_num</th>\n",
       "      <th>uid</th>\n",
       "      <th>trial_start_time</th>\n",
       "      <th>rt</th>\n",
       "      <th>response</th>\n",
       "      <th>loop_step</th>\n",
       "      <th>trial_order</th>\n",
       "      <th>trial_set</th>\n",
       "      <th>trial</th>\n",
       "      <th>core_program</th>\n",
       "      <th>variant</th>\n",
       "      <th>step_id</th>\n",
       "      <th>text1</th>\n",
       "      <th>response_needed</th>\n",
       "      <th>expected_response</th>\n",
       "      <th>is_loop</th>\n",
       "      <th>loop_type</th>\n",
       "      <th>loop_type_switch</th>\n",
       "      <th>n_iterations</th>\n",
       "      <th>n_loop_lines</th>\n",
       "      <th>expected_response_whole_loop</th>\n",
       "      <th>step_type</th>\n",
       "      <th>prev_loop_type</th>\n",
       "      <th>correct</th>\n",
       "    </tr>\n",
       "  </thead>\n",
       "  <tbody>\n",
       "    <tr>\n",
       "      <th>11209</th>\n",
       "      <td>106A</td>\n",
       "      <td>198</td>\n",
       "      <td>94</td>\n",
       "      <td>547145</td>\n",
       "      <td>1766</td>\n",
       "      <td>20</td>\n",
       "      <td>0</td>\n",
       "      <td>6</td>\n",
       "      <td>1</td>\n",
       "      <td>1011</td>\n",
       "      <td>6</td>\n",
       "      <td>FWWFFFWW</td>\n",
       "      <td>4</td>\n",
       "      <td>while a &gt;= 10:\\n   a += 1\\n   a -= 8</td>\n",
       "      <td>True</td>\n",
       "      <td>20.0</td>\n",
       "      <td>True</td>\n",
       "      <td>while</td>\n",
       "      <td>False</td>\n",
       "      <td>2</td>\n",
       "      <td>2</td>\n",
       "      <td>[20, 12, 13, 5]</td>\n",
       "      <td>loop</td>\n",
       "      <td>while</td>\n",
       "      <td>True</td>\n",
       "    </tr>\n",
       "    <tr>\n",
       "      <th>11967</th>\n",
       "      <td>103B</td>\n",
       "      <td>43</td>\n",
       "      <td>48</td>\n",
       "      <td>270437</td>\n",
       "      <td>3033</td>\n",
       "      <td>10</td>\n",
       "      <td>0</td>\n",
       "      <td>11</td>\n",
       "      <td>1</td>\n",
       "      <td>6</td>\n",
       "      <td>3</td>\n",
       "      <td>FFWFFWFF</td>\n",
       "      <td>3</td>\n",
       "      <td>for i in [1, 2]:\\n   a /= 2</td>\n",
       "      <td>True</td>\n",
       "      <td>10.0</td>\n",
       "      <td>True</td>\n",
       "      <td>for</td>\n",
       "      <td>False</td>\n",
       "      <td>2</td>\n",
       "      <td>1</td>\n",
       "      <td>[10, 5]</td>\n",
       "      <td>loop</td>\n",
       "      <td>for</td>\n",
       "      <td>True</td>\n",
       "    </tr>\n",
       "    <tr>\n",
       "      <th>5978</th>\n",
       "      <td>104A</td>\n",
       "      <td>8</td>\n",
       "      <td>76</td>\n",
       "      <td>52913</td>\n",
       "      <td>2882</td>\n",
       "      <td>19</td>\n",
       "      <td>0</td>\n",
       "      <td>1</td>\n",
       "      <td>1</td>\n",
       "      <td>9</td>\n",
       "      <td>5</td>\n",
       "      <td>WFFWWWFF</td>\n",
       "      <td>4</td>\n",
       "      <td>for i in [1, 2]:\\n   a += 5\\n   a -= 6</td>\n",
       "      <td>True</td>\n",
       "      <td>19.0</td>\n",
       "      <td>True</td>\n",
       "      <td>for</td>\n",
       "      <td>False</td>\n",
       "      <td>2</td>\n",
       "      <td>2</td>\n",
       "      <td>[19, 13, 18, 12]</td>\n",
       "      <td>loop</td>\n",
       "      <td>for</td>\n",
       "      <td>True</td>\n",
       "    </tr>\n",
       "  </tbody>\n",
       "</table>\n",
       "</div>"
      ],
      "text/plain": [
       "      subject  step_num  uid  trial_start_time    rt response  loop_step  \\\n",
       "11209    106A       198   94            547145  1766       20          0   \n",
       "11967    103B        43   48            270437  3033       10          0   \n",
       "5978     104A         8   76             52913  2882       19          0   \n",
       "\n",
       "       trial_order  trial_set  trial  core_program   variant  step_id  \\\n",
       "11209            6          1   1011             6  FWWFFFWW        4   \n",
       "11967           11          1      6             3  FFWFFWFF        3   \n",
       "5978             1          1      9             5  WFFWWWFF        4   \n",
       "\n",
       "                                        text1  response_needed  \\\n",
       "11209    while a >= 10:\\n   a += 1\\n   a -= 8             True   \n",
       "11967             for i in [1, 2]:\\n   a /= 2             True   \n",
       "5978   for i in [1, 2]:\\n   a += 5\\n   a -= 6             True   \n",
       "\n",
       "       expected_response  is_loop loop_type  loop_type_switch  n_iterations  \\\n",
       "11209               20.0     True     while             False             2   \n",
       "11967               10.0     True       for             False             2   \n",
       "5978                19.0     True       for             False             2   \n",
       "\n",
       "       n_loop_lines expected_response_whole_loop step_type prev_loop_type  \\\n",
       "11209             2              [20, 12, 13, 5]      loop          while   \n",
       "11967             1                      [10, 5]      loop            for   \n",
       "5978              2             [19, 13, 18, 12]      loop            for   \n",
       "\n",
       "       correct  \n",
       "11209     True  \n",
       "11967     True  \n",
       "5978      True  "
      ]
     },
     "execution_count": 6,
     "metadata": {},
     "output_type": "execute_result"
    }
   ],
   "source": [
    "raw_data.sample(3)"
   ]
  },
  {
   "attachments": {},
   "cell_type": "markdown",
   "metadata": {},
   "source": [
    "## **2. Exploring Outliers**"
   ]
  },
  {
   "cell_type": "code",
   "execution_count": 9,
   "metadata": {},
   "outputs": [],
   "source": [
    "def is_outlier(x, x_q1, x_q3, x_iqr, threshold):\n",
    "    if x_iqr == 0:\n",
    "        return False\n",
    "    return (x_q1 - x) / x_iqr >= threshold or (x - x_q3) / x_iqr >= threshold"
   ]
  },
  {
   "attachments": {},
   "cell_type": "markdown",
   "metadata": {},
   "source": [
    "### 2.1. Response-Time Between Subjects"
   ]
  },
  {
   "cell_type": "code",
   "execution_count": 10,
   "metadata": {},
   "outputs": [],
   "source": [
    "# filtering only necessary columns\n",
    "response_times = raw_data[['subject', 'step_num', 'rt']].copy()"
   ]
  },
  {
   "cell_type": "code",
   "execution_count": 11,
   "metadata": {},
   "outputs": [
    {
     "name": "stdout",
     "output_type": "stream",
     "text": [
      "Seems that: ['103B'] are outliers in terms of mean response time within subject.\n"
     ]
    }
   ],
   "source": [
    "# checking for outliers in terms of mean response time\n",
    "mean_rt_per_subject = response_times[['rt', 'subject']].groupby('subject').mean()\n",
    "mean_rt_per_subject.columns = ['mean_rt']\n",
    "\n",
    "g_rt_q1, g_rt_q3 = mean_rt_per_subject['mean_rt'].quantile([0.25, 0.75])\n",
    "g_rt_iqr = g_rt_q1 - g_rt_q3\n",
    "\n",
    "mean_outlier_mask = mean_rt_per_subject['mean_rt'].apply(is_outlier\n",
    "                                                      , args=(g_rt_q1, g_rt_q3, g_rt_iqr\n",
    "                                                              , cleaning_config['filter_threshold']))\n",
    "rt_outlier_subject = mean_rt_per_subject[mean_outlier_mask].index\n",
    "\n",
    "if rt_outlier_subject.size > 0:\n",
    "    print(f'Seems that: {list(rt_outlier_subject)} are outliers in terms of mean response time within subject.')\n",
    "else:\n",
    "    print(\"No Outliers detected! at least in terms of mean response time within subject.\")"
   ]
  },
  {
   "attachments": {},
   "cell_type": "markdown",
   "metadata": {},
   "source": [
    "### 2.2. Mistakes Rate (%) Between Subjects"
   ]
  },
  {
   "cell_type": "code",
   "execution_count": 12,
   "metadata": {},
   "outputs": [
    {
     "name": "stdout",
     "output_type": "stream",
     "text": [
      "mean general success rate: 0.96\n"
     ]
    }
   ],
   "source": [
    "# filtering only necessary columns\n",
    "response_success = raw_data[['subject', 'step_num', 'trial', 'correct']].copy()\n",
    "\n",
    "# calculating quantiles\n",
    "g_c_mean = response_success['correct'].mean()\n",
    "print(f'mean general success rate: {round(g_c_mean, 2)}')"
   ]
  },
  {
   "cell_type": "code",
   "execution_count": 13,
   "metadata": {},
   "outputs": [
    {
     "data": {
      "text/html": [
       "<div>\n",
       "<style scoped>\n",
       "    .dataframe tbody tr th:only-of-type {\n",
       "        vertical-align: middle;\n",
       "    }\n",
       "\n",
       "    .dataframe tbody tr th {\n",
       "        vertical-align: top;\n",
       "    }\n",
       "\n",
       "    .dataframe thead th {\n",
       "        text-align: right;\n",
       "    }\n",
       "</style>\n",
       "<table border=\"1\" class=\"dataframe\">\n",
       "  <thead>\n",
       "    <tr style=\"text-align: right;\">\n",
       "      <th>subject</th>\n",
       "      <th>103B</th>\n",
       "      <th>107B</th>\n",
       "      <th>108A</th>\n",
       "      <th>103A</th>\n",
       "      <th>105A</th>\n",
       "      <th>106B</th>\n",
       "      <th>104B</th>\n",
       "      <th>109B</th>\n",
       "      <th>104A</th>\n",
       "      <th>108B</th>\n",
       "      <th>102B</th>\n",
       "      <th>106A</th>\n",
       "      <th>102A</th>\n",
       "      <th>109A</th>\n",
       "      <th>101B</th>\n",
       "    </tr>\n",
       "  </thead>\n",
       "  <tbody>\n",
       "    <tr>\n",
       "      <th>success_rate</th>\n",
       "      <td>1.0</td>\n",
       "      <td>1.0</td>\n",
       "      <td>0.994048</td>\n",
       "      <td>0.988095</td>\n",
       "      <td>0.988095</td>\n",
       "      <td>0.988095</td>\n",
       "      <td>0.982143</td>\n",
       "      <td>0.97619</td>\n",
       "      <td>0.964286</td>\n",
       "      <td>0.964286</td>\n",
       "      <td>0.952381</td>\n",
       "      <td>0.952381</td>\n",
       "      <td>0.904762</td>\n",
       "      <td>0.904762</td>\n",
       "      <td>0.87574</td>\n",
       "    </tr>\n",
       "  </tbody>\n",
       "</table>\n",
       "</div>"
      ],
      "text/plain": [
       "subject       103B  107B      108A      103A      105A      106B      104B  \\\n",
       "success_rate   1.0   1.0  0.994048  0.988095  0.988095  0.988095  0.982143   \n",
       "\n",
       "subject          109B      104A      108B      102B      106A      102A  \\\n",
       "success_rate  0.97619  0.964286  0.964286  0.952381  0.952381  0.904762   \n",
       "\n",
       "subject           109A     101B  \n",
       "success_rate  0.904762  0.87574  "
      ]
     },
     "execution_count": 13,
     "metadata": {},
     "output_type": "execute_result"
    }
   ],
   "source": [
    "success_per_subject = response_success[['subject', 'correct']].groupby('subject').mean()\n",
    "success_per_subject.rename(columns={'correct': 'success_rate'}, inplace=True)\n",
    "success_per_subject.sort_values(by='success_rate', ascending=False).T"
   ]
  },
  {
   "cell_type": "code",
   "execution_count": 14,
   "metadata": {},
   "outputs": [
    {
     "name": "stdout",
     "output_type": "stream",
     "text": [
      "No Outliers detected! at least in terms of success rate within subject.\n"
     ]
    }
   ],
   "source": [
    "success_rate_q1, success_rate_q3 = success_per_subject['success_rate'].quantile([0.25, 0.75])\n",
    "success_rate_iqr = success_rate_q1 = success_rate_q3\n",
    "\n",
    "success_outlier_mask = success_per_subject['success_rate'].apply(is_outlier\n",
    "                                        , args=(success_rate_q1, success_rate_q3, success_rate_iqr\n",
    "                                            , cleaning_config['filter_threshold']))\n",
    "\n",
    "success_outlier_subjects = success_per_subject[success_outlier_mask]\n",
    "\n",
    "if success_outlier_subjects.size > 0:\n",
    "    print(f'Seems that: {list(success_outlier_subjects)} are outliers in terms of success rate within subject.')\n",
    "else:\n",
    "    print(\"No Outliers detected! at least in terms of success rate within subject.\")"
   ]
  },
  {
   "attachments": {},
   "cell_type": "markdown",
   "metadata": {},
   "source": [
    "### 2.3. Trial Mistakes Rate (%)"
   ]
  },
  {
   "cell_type": "code",
   "execution_count": 15,
   "metadata": {},
   "outputs": [
    {
     "data": {
      "text/html": [
       "<div>\n",
       "<style scoped>\n",
       "    .dataframe tbody tr th:only-of-type {\n",
       "        vertical-align: middle;\n",
       "    }\n",
       "\n",
       "    .dataframe tbody tr th {\n",
       "        vertical-align: top;\n",
       "    }\n",
       "\n",
       "    .dataframe thead th {\n",
       "        text-align: right;\n",
       "    }\n",
       "</style>\n",
       "<table border=\"1\" class=\"dataframe\">\n",
       "  <thead>\n",
       "    <tr style=\"text-align: right;\">\n",
       "      <th></th>\n",
       "      <th></th>\n",
       "      <th>success_per_trial</th>\n",
       "    </tr>\n",
       "    <tr>\n",
       "      <th>subject</th>\n",
       "      <th>trial</th>\n",
       "      <th></th>\n",
       "    </tr>\n",
       "  </thead>\n",
       "  <tbody>\n",
       "    <tr>\n",
       "      <th rowspan=\"3\" valign=\"top\">101B</th>\n",
       "      <th>1</th>\n",
       "      <td>0.857143</td>\n",
       "    </tr>\n",
       "    <tr>\n",
       "      <th>2</th>\n",
       "      <td>0.714286</td>\n",
       "    </tr>\n",
       "    <tr>\n",
       "      <th>3</th>\n",
       "      <td>1.000000</td>\n",
       "    </tr>\n",
       "  </tbody>\n",
       "</table>\n",
       "</div>"
      ],
      "text/plain": [
       "               success_per_trial\n",
       "subject trial                   \n",
       "101B    1               0.857143\n",
       "        2               0.714286\n",
       "        3               1.000000"
      ]
     },
     "execution_count": 15,
     "metadata": {},
     "output_type": "execute_result"
    }
   ],
   "source": [
    "# calculating response success rate per trial\n",
    "success_per_trial = response_success[['subject', 'trial', 'correct']].groupby(['subject', 'trial']).mean()\n",
    "success_per_trial.rename(columns={'correct': 'success_per_trial'}, inplace=True)\n",
    "\n",
    "success_per_trial.head(3)"
   ]
  },
  {
   "cell_type": "code",
   "execution_count": 16,
   "metadata": {},
   "outputs": [
    {
     "name": "stdout",
     "output_type": "stream",
     "text": [
      "The following trials are outliers in term of trial success rate within subject:\n"
     ]
    },
    {
     "data": {
      "text/html": [
       "<div>\n",
       "<style scoped>\n",
       "    .dataframe tbody tr th:only-of-type {\n",
       "        vertical-align: middle;\n",
       "    }\n",
       "\n",
       "    .dataframe tbody tr th {\n",
       "        vertical-align: top;\n",
       "    }\n",
       "\n",
       "    .dataframe thead th {\n",
       "        text-align: right;\n",
       "    }\n",
       "</style>\n",
       "<table border=\"1\" class=\"dataframe\">\n",
       "  <thead>\n",
       "    <tr style=\"text-align: right;\">\n",
       "      <th></th>\n",
       "      <th></th>\n",
       "      <th>success_per_trial</th>\n",
       "    </tr>\n",
       "    <tr>\n",
       "      <th>subject</th>\n",
       "      <th>trial</th>\n",
       "      <th></th>\n",
       "    </tr>\n",
       "  </thead>\n",
       "  <tbody>\n",
       "  </tbody>\n",
       "</table>\n",
       "</div>"
      ],
      "text/plain": [
       "Empty DataFrame\n",
       "Columns: [success_per_trial]\n",
       "Index: []"
      ]
     },
     "execution_count": 16,
     "metadata": {},
     "output_type": "execute_result"
    }
   ],
   "source": [
    "# actually finding the trial outliers in terms of success rate within subject\n",
    "trial_success_q1, trial_success_q3 = success_per_trial['success_per_trial'].quantile([0.25, 0.75])\n",
    "trial_success_iqr = trial_success_q1 - trial_success_q3\n",
    "outlier_trails_mask = success_per_trial['success_per_trial'].apply(is_outlier\n",
    "                                                                   , args=(trial_success_q1, trial_success_q3\n",
    "                                                                           , trial_success_iqr, cleaning_config['filter_threshold']))\n",
    "outlier_trails = success_per_trial[outlier_trails_mask]\n",
    "\n",
    "print(\"The following trials are outliers in term of trial success rate within subject:\")\n",
    "outlier_trails.sort_values(by='success_per_trial')"
   ]
  },
  {
   "attachments": {},
   "cell_type": "markdown",
   "metadata": {},
   "source": [
    "### 2.3. Single Steps Response-Time Within Subject"
   ]
  },
  {
   "cell_type": "code",
   "execution_count": 17,
   "metadata": {},
   "outputs": [
    {
     "data": {
      "text/html": [
       "<div>\n",
       "<style scoped>\n",
       "    .dataframe tbody tr th:only-of-type {\n",
       "        vertical-align: middle;\n",
       "    }\n",
       "\n",
       "    .dataframe tbody tr th {\n",
       "        vertical-align: top;\n",
       "    }\n",
       "\n",
       "    .dataframe thead th {\n",
       "        text-align: right;\n",
       "    }\n",
       "</style>\n",
       "<table border=\"1\" class=\"dataframe\">\n",
       "  <thead>\n",
       "    <tr style=\"text-align: right;\">\n",
       "      <th></th>\n",
       "      <th>q1</th>\n",
       "      <th>q3</th>\n",
       "      <th>iqr</th>\n",
       "    </tr>\n",
       "    <tr>\n",
       "      <th>subject</th>\n",
       "      <th></th>\n",
       "      <th></th>\n",
       "      <th></th>\n",
       "    </tr>\n",
       "  </thead>\n",
       "  <tbody>\n",
       "    <tr>\n",
       "      <th>101B</th>\n",
       "      <td>1282.00</td>\n",
       "      <td>2930.00</td>\n",
       "      <td>1648.00</td>\n",
       "    </tr>\n",
       "    <tr>\n",
       "      <th>102A</th>\n",
       "      <td>2552.50</td>\n",
       "      <td>5526.75</td>\n",
       "      <td>2974.25</td>\n",
       "    </tr>\n",
       "    <tr>\n",
       "      <th>102B</th>\n",
       "      <td>2184.25</td>\n",
       "      <td>4457.00</td>\n",
       "      <td>2272.75</td>\n",
       "    </tr>\n",
       "  </tbody>\n",
       "</table>\n",
       "</div>"
      ],
      "text/plain": [
       "              q1       q3      iqr\n",
       "subject                           \n",
       "101B     1282.00  2930.00  1648.00\n",
       "102A     2552.50  5526.75  2974.25\n",
       "102B     2184.25  4457.00  2272.75"
      ]
     },
     "execution_count": 17,
     "metadata": {},
     "output_type": "execute_result"
    }
   ],
   "source": [
    "# calculating response time quantiles and IQR per subject\n",
    "quantiles_per_subject = response_times[['rt', 'subject']].groupby('subject').quantile([0.25, 0.75]).unstack()\n",
    "quantiles_per_subject.columns = ['q1', 'q3']\n",
    "quantiles_per_subject['iqr'] = quantiles_per_subject['q3'] - quantiles_per_subject['q1']\n",
    "\n",
    "quantiles_per_subject.head(3)"
   ]
  },
  {
   "cell_type": "code",
   "execution_count": 18,
   "metadata": {},
   "outputs": [],
   "source": [
    "# finding if a step is an outlier in terms of response time within subject\n",
    "def is_subjective_outlier(step):\n",
    "    rt = step['rt']\n",
    "    subject = step['subject']\n",
    "        \n",
    "    subject_quantiles = quantiles_per_subject.loc[subject]\n",
    "    q1, q3, iqr = subject_quantiles['q1'], subject_quantiles['q3'], subject_quantiles['iqr']\n",
    "    return is_outlier(rt, q1, q3, iqr, cleaning_config['filter_threshold'])"
   ]
  },
  {
   "cell_type": "code",
   "execution_count": 19,
   "metadata": {},
   "outputs": [],
   "source": [
    "# filtering only outliers\n",
    "subjective_outlier_mask = response_times.apply(is_subjective_outlier, axis=1)\n",
    "outlier_steps = response_times[subjective_outlier_mask]"
   ]
  },
  {
   "cell_type": "code",
   "execution_count": 20,
   "metadata": {},
   "outputs": [
    {
     "data": {
      "text/html": [
       "<div>\n",
       "<style scoped>\n",
       "    .dataframe tbody tr th:only-of-type {\n",
       "        vertical-align: middle;\n",
       "    }\n",
       "\n",
       "    .dataframe tbody tr th {\n",
       "        vertical-align: top;\n",
       "    }\n",
       "\n",
       "    .dataframe thead th {\n",
       "        text-align: right;\n",
       "    }\n",
       "</style>\n",
       "<table border=\"1\" class=\"dataframe\">\n",
       "  <thead>\n",
       "    <tr style=\"text-align: right;\">\n",
       "      <th></th>\n",
       "      <th>subject</th>\n",
       "      <th>step_num</th>\n",
       "      <th>rt</th>\n",
       "      <th>q1</th>\n",
       "      <th>q3</th>\n",
       "      <th>iqr</th>\n",
       "    </tr>\n",
       "  </thead>\n",
       "  <tbody>\n",
       "    <tr>\n",
       "      <th>54</th>\n",
       "      <td>107B</td>\n",
       "      <td>54</td>\n",
       "      <td>7899</td>\n",
       "      <td>1949.25</td>\n",
       "      <td>3412.5</td>\n",
       "      <td>1463.25</td>\n",
       "    </tr>\n",
       "    <tr>\n",
       "      <th>465</th>\n",
       "      <td>104B</td>\n",
       "      <td>6</td>\n",
       "      <td>9413</td>\n",
       "      <td>1932.25</td>\n",
       "      <td>3792.0</td>\n",
       "      <td>1859.75</td>\n",
       "    </tr>\n",
       "    <tr>\n",
       "      <th>655</th>\n",
       "      <td>104B</td>\n",
       "      <td>196</td>\n",
       "      <td>8954</td>\n",
       "      <td>1932.25</td>\n",
       "      <td>3792.0</td>\n",
       "      <td>1859.75</td>\n",
       "    </tr>\n",
       "    <tr>\n",
       "      <th>1383</th>\n",
       "      <td>108B</td>\n",
       "      <td>11</td>\n",
       "      <td>16865</td>\n",
       "      <td>2116.25</td>\n",
       "      <td>4969.0</td>\n",
       "      <td>2852.75</td>\n",
       "    </tr>\n",
       "    <tr>\n",
       "      <th>1463</th>\n",
       "      <td>108B</td>\n",
       "      <td>91</td>\n",
       "      <td>12970</td>\n",
       "      <td>2116.25</td>\n",
       "      <td>4969.0</td>\n",
       "      <td>2852.75</td>\n",
       "    </tr>\n",
       "  </tbody>\n",
       "</table>\n",
       "</div>"
      ],
      "text/plain": [
       "     subject  step_num     rt       q1      q3      iqr\n",
       "54      107B        54   7899  1949.25  3412.5  1463.25\n",
       "465     104B         6   9413  1932.25  3792.0  1859.75\n",
       "655     104B       196   8954  1932.25  3792.0  1859.75\n",
       "1383    108B        11  16865  2116.25  4969.0  2852.75\n",
       "1463    108B        91  12970  2116.25  4969.0  2852.75"
      ]
     },
     "execution_count": 20,
     "metadata": {},
     "output_type": "execute_result"
    }
   ],
   "source": [
    "outlier_steps = outlier_steps.merge(quantiles_per_subject, how='left', left_on='subject', right_index=True)\n",
    "outlier_steps.head()"
   ]
  }
 ],
 "metadata": {
  "kernelspec": {
   "display_name": "Python 3",
   "language": "python",
   "name": "python3"
  },
  "language_info": {
   "codemirror_mode": {
    "name": "ipython",
    "version": 3
   },
   "file_extension": ".py",
   "mimetype": "text/x-python",
   "name": "python",
   "nbconvert_exporter": "python",
   "pygments_lexer": "ipython3",
   "version": "3.11.3"
  },
  "orig_nbformat": 4
 },
 "nbformat": 4,
 "nbformat_minor": 2
}
