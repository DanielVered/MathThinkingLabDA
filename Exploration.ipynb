{
 "cells": [
  {
   "attachments": {},
   "cell_type": "markdown",
   "metadata": {},
   "source": [
    "# **LoopsResultsExploration**"
   ]
  },
  {
   "attachments": {},
   "cell_type": "markdown",
   "metadata": {},
   "source": [
    "## **1. Importing and First Proccesing**"
   ]
  },
  {
   "cell_type": "code",
   "execution_count": 2,
   "metadata": {},
   "outputs": [],
   "source": [
    "import pandas as pd\n",
    "from DataCleaning import *\n",
    "\n",
    "pd.options.display.max_columns = 50"
   ]
  },
  {
   "cell_type": "code",
   "execution_count": 3,
   "metadata": {},
   "outputs": [],
   "source": [
    "raw_data = pd.read_excel(cleaning_config['raw_data_path'])\n",
    "\n",
    "# partial cleaning\n",
    "drop_columns(raw_data, cleaning_config['unnecessary_columns'])\n",
    "convert_types(raw_data, cleaning_config['type_conversions'])\n",
    "raw_data = drop_first_loop(raw_data)\n",
    "raw_data = drop_first_line(raw_data)"
   ]
  },
  {
   "cell_type": "code",
   "execution_count": 4,
   "metadata": {},
   "outputs": [
    {
     "name": "stdout",
     "output_type": "stream",
     "text": [
      "<class 'pandas.core.frame.DataFrame'>\n",
      "Int64Index: 5071 entries, 7 to 10586\n",
      "Data columns (total 27 columns):\n",
      " #   Column                        Non-Null Count  Dtype  \n",
      "---  ------                        --------------  -----  \n",
      " 0   subject                       5071 non-null   object \n",
      " 1   step_num                      5071 non-null   int64  \n",
      " 2   uid                           5071 non-null   int64  \n",
      " 3   trial_start_time              5071 non-null   int64  \n",
      " 4   rt                            5071 non-null   int32  \n",
      " 5   response                      5071 non-null   object \n",
      " 6   loop_step                     5071 non-null   int32  \n",
      " 7   trial_order                   5071 non-null   int64  \n",
      " 8   var_mapping                   5071 non-null   object \n",
      " 9   trial_set                     5071 non-null   int64  \n",
      " 10  trial                         5071 non-null   int64  \n",
      " 11  core_program                  5071 non-null   int64  \n",
      " 12  variant                       5071 non-null   object \n",
      " 13  step_id                       5071 non-null   int64  \n",
      " 14  text1                         5071 non-null   object \n",
      " 15  response_needed               5071 non-null   bool   \n",
      " 16  expected_response             5071 non-null   float64\n",
      " 17  is_loop                       5071 non-null   bool   \n",
      " 18  loop_type                     5071 non-null   object \n",
      " 19  loop_type_switch              5071 non-null   bool   \n",
      " 20  n_iterations                  5071 non-null   int64  \n",
      " 21  n_loop_lines                  5071 non-null   int64  \n",
      " 22  expected_response_whole_loop  5071 non-null   object \n",
      " 23  step_type                     5071 non-null   object \n",
      " 24  prev_loop_type                5071 non-null   object \n",
      " 25  correct                       5071 non-null   bool   \n",
      " 26  same_as_prev_loop_type        5071 non-null   bool   \n",
      "dtypes: bool(5), float64(1), int32(2), int64(10), object(9)\n",
      "memory usage: 896.3+ KB\n"
     ]
    }
   ],
   "source": [
    "raw_data.info()"
   ]
  },
  {
   "cell_type": "code",
   "execution_count": 5,
   "metadata": {},
   "outputs": [
    {
     "data": {
      "text/html": [
       "<div>\n",
       "<style scoped>\n",
       "    .dataframe tbody tr th:only-of-type {\n",
       "        vertical-align: middle;\n",
       "    }\n",
       "\n",
       "    .dataframe tbody tr th {\n",
       "        vertical-align: top;\n",
       "    }\n",
       "\n",
       "    .dataframe thead th {\n",
       "        text-align: right;\n",
       "    }\n",
       "</style>\n",
       "<table border=\"1\" class=\"dataframe\">\n",
       "  <thead>\n",
       "    <tr style=\"text-align: right;\">\n",
       "      <th></th>\n",
       "      <th>subject</th>\n",
       "      <th>step_num</th>\n",
       "      <th>uid</th>\n",
       "      <th>trial_start_time</th>\n",
       "      <th>rt</th>\n",
       "      <th>response</th>\n",
       "      <th>loop_step</th>\n",
       "      <th>trial_order</th>\n",
       "      <th>var_mapping</th>\n",
       "      <th>trial_set</th>\n",
       "      <th>trial</th>\n",
       "      <th>core_program</th>\n",
       "      <th>variant</th>\n",
       "      <th>step_id</th>\n",
       "      <th>text1</th>\n",
       "      <th>response_needed</th>\n",
       "      <th>expected_response</th>\n",
       "      <th>is_loop</th>\n",
       "      <th>loop_type</th>\n",
       "      <th>loop_type_switch</th>\n",
       "      <th>n_iterations</th>\n",
       "      <th>n_loop_lines</th>\n",
       "      <th>expected_response_whole_loop</th>\n",
       "      <th>step_type</th>\n",
       "      <th>prev_loop_type</th>\n",
       "      <th>correct</th>\n",
       "      <th>same_as_prev_loop_type</th>\n",
       "    </tr>\n",
       "  </thead>\n",
       "  <tbody>\n",
       "    <tr>\n",
       "      <th>10393</th>\n",
       "      <td>106A</td>\n",
       "      <td>265</td>\n",
       "      <td>81</td>\n",
       "      <td>953685</td>\n",
       "      <td>673</td>\n",
       "      <td>7</td>\n",
       "      <td>1</td>\n",
       "      <td>7</td>\n",
       "      <td>1=a;2=i</td>\n",
       "      <td>2</td>\n",
       "      <td>1009</td>\n",
       "      <td>5</td>\n",
       "      <td>FWWFFFWW</td>\n",
       "      <td>9</td>\n",
       "      <td>while a &lt;= 7:\\n   a += 9\\n   a /= 2</td>\n",
       "      <td>True</td>\n",
       "      <td>7.0</td>\n",
       "      <td>True</td>\n",
       "      <td>while</td>\n",
       "      <td>False</td>\n",
       "      <td>2</td>\n",
       "      <td>2</td>\n",
       "      <td>[14, 7, 16, 8]</td>\n",
       "      <td>loop</td>\n",
       "      <td>0</td>\n",
       "      <td>True</td>\n",
       "      <td>False</td>\n",
       "    </tr>\n",
       "    <tr>\n",
       "      <th>6131</th>\n",
       "      <td>109A</td>\n",
       "      <td>151</td>\n",
       "      <td>107</td>\n",
       "      <td>528974</td>\n",
       "      <td>592</td>\n",
       "      <td>11</td>\n",
       "      <td>2</td>\n",
       "      <td>4</td>\n",
       "      <td>1=a;2=i</td>\n",
       "      <td>1</td>\n",
       "      <td>1012</td>\n",
       "      <td>6</td>\n",
       "      <td>WWFFWFFW</td>\n",
       "      <td>8</td>\n",
       "      <td>for i in [1, 2, 3]:\\n   a -= 3</td>\n",
       "      <td>True</td>\n",
       "      <td>11.0</td>\n",
       "      <td>True</td>\n",
       "      <td>for</td>\n",
       "      <td>False</td>\n",
       "      <td>3</td>\n",
       "      <td>1</td>\n",
       "      <td>[17, 14, 11]</td>\n",
       "      <td>loop</td>\n",
       "      <td>0</td>\n",
       "      <td>True</td>\n",
       "      <td>False</td>\n",
       "    </tr>\n",
       "    <tr>\n",
       "      <th>2278</th>\n",
       "      <td>101B</td>\n",
       "      <td>446</td>\n",
       "      <td>31</td>\n",
       "      <td>1643074</td>\n",
       "      <td>1687</td>\n",
       "      <td>5</td>\n",
       "      <td>1</td>\n",
       "      <td>12</td>\n",
       "      <td>1=a;2=i</td>\n",
       "      <td>1</td>\n",
       "      <td>1004</td>\n",
       "      <td>2</td>\n",
       "      <td>WFFFFWWF</td>\n",
       "      <td>4</td>\n",
       "      <td>for i in [1, 2, 3, 4]:\\n   a += 2</td>\n",
       "      <td>True</td>\n",
       "      <td>5.0</td>\n",
       "      <td>True</td>\n",
       "      <td>for</td>\n",
       "      <td>False</td>\n",
       "      <td>4</td>\n",
       "      <td>1</td>\n",
       "      <td>[3, 5, 7, 9]</td>\n",
       "      <td>loop</td>\n",
       "      <td>0</td>\n",
       "      <td>True</td>\n",
       "      <td>False</td>\n",
       "    </tr>\n",
       "  </tbody>\n",
       "</table>\n",
       "</div>"
      ],
      "text/plain": [
       "      subject  step_num  uid  trial_start_time    rt response  loop_step  \\\n",
       "10393    106A       265   81            953685   673        7          1   \n",
       "6131     109A       151  107            528974   592       11          2   \n",
       "2278     101B       446   31           1643074  1687        5          1   \n",
       "\n",
       "       trial_order var_mapping  trial_set  trial  core_program   variant  \\\n",
       "10393            7     1=a;2=i          2   1009             5  FWWFFFWW   \n",
       "6131             4     1=a;2=i          1   1012             6  WWFFWFFW   \n",
       "2278            12     1=a;2=i          1   1004             2  WFFFFWWF   \n",
       "\n",
       "       step_id                                text1  response_needed  \\\n",
       "10393        9  while a <= 7:\\n   a += 9\\n   a /= 2             True   \n",
       "6131         8       for i in [1, 2, 3]:\\n   a -= 3             True   \n",
       "2278         4    for i in [1, 2, 3, 4]:\\n   a += 2             True   \n",
       "\n",
       "       expected_response  is_loop loop_type  loop_type_switch  n_iterations  \\\n",
       "10393                7.0     True     while             False             2   \n",
       "6131                11.0     True       for             False             3   \n",
       "2278                 5.0     True       for             False             4   \n",
       "\n",
       "       n_loop_lines expected_response_whole_loop step_type prev_loop_type  \\\n",
       "10393             2               [14, 7, 16, 8]      loop              0   \n",
       "6131              1                 [17, 14, 11]      loop              0   \n",
       "2278              1                 [3, 5, 7, 9]      loop              0   \n",
       "\n",
       "       correct  same_as_prev_loop_type  \n",
       "10393     True                   False  \n",
       "6131      True                   False  \n",
       "2278      True                   False  "
      ]
     },
     "execution_count": 5,
     "metadata": {},
     "output_type": "execute_result"
    }
   ],
   "source": [
    "raw_data.sample(3)"
   ]
  },
  {
   "attachments": {},
   "cell_type": "markdown",
   "metadata": {},
   "source": [
    "## **2. Exploring Outliers**"
   ]
  },
  {
   "cell_type": "code",
   "execution_count": 6,
   "metadata": {},
   "outputs": [],
   "source": [
    "def is_outlier(x, x_q1, x_q3, x_iqr, threshold):\n",
    "    return (x_q1 - x) / x_iqr >= threshold or (x - x_q3) / x_iqr >= threshold"
   ]
  },
  {
   "attachments": {},
   "cell_type": "markdown",
   "metadata": {},
   "source": [
    "### 2.1. Response-Time Between Subjects"
   ]
  },
  {
   "cell_type": "code",
   "execution_count": 7,
   "metadata": {},
   "outputs": [],
   "source": [
    "# filtering only necessary columns\n",
    "response_times = raw_data[['subject', 'step_num', 'rt']].copy()\n",
    "response_times.drop_duplicates(inplace=True)\n",
    "\n",
    "# calculating quantiles\n",
    "g_rt_std = response_times['rt'].std()\n",
    "g_rt_q1, g_rt_q3 = response_times['rt'].quantile([0.25, 0.75])\n",
    "g_rt_iqr = g_rt_q3 - g_rt_q1"
   ]
  },
  {
   "cell_type": "code",
   "execution_count": 8,
   "metadata": {},
   "outputs": [
    {
     "name": "stdout",
     "output_type": "stream",
     "text": [
      "No Outliers detected! at least in terms of median response time within subject.\n"
     ]
    }
   ],
   "source": [
    "# checking for outliers in terms of median response time\n",
    "med_rt_per_subject = response_times[['rt', 'subject']].groupby('subject').median()\n",
    "med_rt_per_subject.columns = ['med_rt']\n",
    "\n",
    "med_outlier_mask = med_rt_per_subject['med_rt'].apply(is_outlier, args=(g_rt_q1, g_rt_q3, g_rt_iqr, 1.5))\n",
    "med_outliers = med_rt_per_subject[med_outlier_mask].index\n",
    "\n",
    "if med_outliers.size > 0:\n",
    "    print(f'Seems that: {list(med_outliers)} are outliers in terms of mean response time within subject.')\n",
    "else:\n",
    "    print(\"No Outliers detected! at least in terms of median response time within subject.\")"
   ]
  },
  {
   "cell_type": "code",
   "execution_count": 9,
   "metadata": {},
   "outputs": [
    {
     "name": "stdout",
     "output_type": "stream",
     "text": [
      "Seems that: ['103B'] are outliers in terms of response time variance within subject.\n"
     ]
    }
   ],
   "source": [
    "# checking for outliers in terms of response time variance (standard deviation)\n",
    "rt_std_per_subject = response_times[['rt', 'subject']].groupby('subject').std()\n",
    "rt_std_per_subject.columns = ['rt_std']\n",
    "\n",
    "std_q3, std_q1 = rt_std_per_subject['rt_std'].quantile([0.75, 0.25])\n",
    "std_iqr = std_q3 - std_q1\n",
    "\n",
    "std_outlier_mask = rt_std_per_subject['rt_std'].apply(is_outlier, args=(std_q1, std_q3, std_iqr, 1.5))\n",
    "std_outliers = rt_std_per_subject[std_outlier_mask].index\n",
    "if std_outliers.size > 0:\n",
    "    print(f'Seems that: {list(std_outliers)} are outliers in terms of response time variance within subject.')\n",
    "else:\n",
    "    print(\"No Outliers detected! at least in terms of response time variance within subject.\")"
   ]
  },
  {
   "cell_type": "code",
   "execution_count": 10,
   "metadata": {},
   "outputs": [
    {
     "name": "stdout",
     "output_type": "stream",
     "text": [
      "General response time std: 1838.0058363095263\n"
     ]
    },
    {
     "data": {
      "text/html": [
       "<div>\n",
       "<style scoped>\n",
       "    .dataframe tbody tr th:only-of-type {\n",
       "        vertical-align: middle;\n",
       "    }\n",
       "\n",
       "    .dataframe tbody tr th {\n",
       "        vertical-align: top;\n",
       "    }\n",
       "\n",
       "    .dataframe thead th {\n",
       "        text-align: right;\n",
       "    }\n",
       "</style>\n",
       "<table border=\"1\" class=\"dataframe\">\n",
       "  <thead>\n",
       "    <tr style=\"text-align: right;\">\n",
       "      <th>subject</th>\n",
       "      <th>103B</th>\n",
       "      <th>108B</th>\n",
       "    </tr>\n",
       "  </thead>\n",
       "  <tbody>\n",
       "    <tr>\n",
       "      <th>rt_std</th>\n",
       "      <td>2988.853086</td>\n",
       "      <td>2774.760539</td>\n",
       "    </tr>\n",
       "  </tbody>\n",
       "</table>\n",
       "</div>"
      ],
      "text/plain": [
       "subject         103B         108B\n",
       "rt_std   2988.853086  2774.760539"
      ]
     },
     "execution_count": 10,
     "metadata": {},
     "output_type": "execute_result"
    }
   ],
   "source": [
    "print(f'General response time std: {g_rt_std}')\n",
    "rt_std_per_subject.loc[['103B', '108B']].T"
   ]
  },
  {
   "attachments": {},
   "cell_type": "markdown",
   "metadata": {},
   "source": [
    "#### *It seems that in terms of response time variance within subject, **103B** is an outlier, and **108B** is arguably also an outlier.*"
   ]
  },
  {
   "cell_type": "code",
   "execution_count": 11,
   "metadata": {},
   "outputs": [
    {
     "name": "stdout",
     "output_type": "stream",
     "text": [
      "103B's grade: 1.856285494638352\n",
      "108B's grade: 1.470637240522526\n"
     ]
    }
   ],
   "source": [
    "print(f\"103B's grade: {(rt_std_per_subject.loc['103B', 'rt_std'] - std_q3) / std_iqr}\")\n",
    "print(f\"108B's grade: {(rt_std_per_subject.loc['108B', 'rt_std'] - std_q3) / std_iqr}\")"
   ]
  },
  {
   "attachments": {},
   "cell_type": "markdown",
   "metadata": {},
   "source": [
    "#### *I would not filter 103B and 108B out, because they are not so extreme.*"
   ]
  },
  {
   "attachments": {},
   "cell_type": "markdown",
   "metadata": {},
   "source": [
    "### 2.2. Mistakes Rate (%) Between Subjects"
   ]
  },
  {
   "cell_type": "code",
   "execution_count": 12,
   "metadata": {},
   "outputs": [
    {
     "name": "stdout",
     "output_type": "stream",
     "text": [
      "mean general success rate: 0.97\n"
     ]
    }
   ],
   "source": [
    "# filtering only necessary columns\n",
    "response_success = raw_data[['subject', 'step_num', 'trial', 'correct']].copy()\n",
    "response_success.drop_duplicates(inplace=True)\n",
    "\n",
    "# calculating quantiles\n",
    "g_c_mean = response_success['correct'].mean()\n",
    "print(f'mean general success rate: {round(g_c_mean, 2)}')"
   ]
  },
  {
   "cell_type": "code",
   "execution_count": 13,
   "metadata": {},
   "outputs": [
    {
     "data": {
      "text/html": [
       "<div>\n",
       "<style scoped>\n",
       "    .dataframe tbody tr th:only-of-type {\n",
       "        vertical-align: middle;\n",
       "    }\n",
       "\n",
       "    .dataframe tbody tr th {\n",
       "        vertical-align: top;\n",
       "    }\n",
       "\n",
       "    .dataframe thead th {\n",
       "        text-align: right;\n",
       "    }\n",
       "</style>\n",
       "<table border=\"1\" class=\"dataframe\">\n",
       "  <thead>\n",
       "    <tr style=\"text-align: right;\">\n",
       "      <th>subject</th>\n",
       "      <th>101B</th>\n",
       "      <th>109A</th>\n",
       "      <th>103A</th>\n",
       "      <th>102A</th>\n",
       "      <th>102B</th>\n",
       "      <th>109B</th>\n",
       "      <th>104B</th>\n",
       "      <th>105A</th>\n",
       "      <th>104A</th>\n",
       "      <th>106B</th>\n",
       "      <th>108B</th>\n",
       "      <th>106A</th>\n",
       "      <th>107B</th>\n",
       "      <th>108A</th>\n",
       "      <th>103B</th>\n",
       "      <th>105B</th>\n",
       "    </tr>\n",
       "  </thead>\n",
       "  <tbody>\n",
       "    <tr>\n",
       "      <th>correct</th>\n",
       "      <td>0.831169</td>\n",
       "      <td>0.918182</td>\n",
       "      <td>0.940909</td>\n",
       "      <td>0.956818</td>\n",
       "      <td>0.959091</td>\n",
       "      <td>0.963636</td>\n",
       "      <td>0.972727</td>\n",
       "      <td>0.972727</td>\n",
       "      <td>0.975</td>\n",
       "      <td>0.977273</td>\n",
       "      <td>0.977273</td>\n",
       "      <td>0.981818</td>\n",
       "      <td>0.981818</td>\n",
       "      <td>0.995455</td>\n",
       "      <td>1.0</td>\n",
       "      <td>1.0</td>\n",
       "    </tr>\n",
       "  </tbody>\n",
       "</table>\n",
       "</div>"
      ],
      "text/plain": [
       "subject      101B      109A      103A      102A      102B      109B      104B  \\\n",
       "correct  0.831169  0.918182  0.940909  0.956818  0.959091  0.963636  0.972727   \n",
       "\n",
       "subject      105A   104A      106B      108B      106A      107B      108A  \\\n",
       "correct  0.972727  0.975  0.977273  0.977273  0.981818  0.981818  0.995455   \n",
       "\n",
       "subject  103B  105B  \n",
       "correct   1.0   1.0  "
      ]
     },
     "execution_count": 13,
     "metadata": {},
     "output_type": "execute_result"
    }
   ],
   "source": [
    "success_per_subject = response_success[['subject', 'correct']].groupby('subject').mean()\n",
    "success_per_subject.sort_values(by='correct').T"
   ]
  },
  {
   "attachments": {},
   "cell_type": "markdown",
   "metadata": {},
   "source": [
    "#### *Looks like **101B** was significantly unsuccessful, but he should be replaced anyway.*\n",
    "#### *In addition, .**103B** & **105B** are too successful, hence I would recommend filtering them out.* "
   ]
  },
  {
   "attachments": {},
   "cell_type": "markdown",
   "metadata": {},
   "source": [
    "### 2.3. Trial Mistakes Rate (%) Within Subject "
   ]
  },
  {
   "cell_type": "code",
   "execution_count": 14,
   "metadata": {},
   "outputs": [
    {
     "data": {
      "text/html": [
       "<div>\n",
       "<style scoped>\n",
       "    .dataframe tbody tr th:only-of-type {\n",
       "        vertical-align: middle;\n",
       "    }\n",
       "\n",
       "    .dataframe tbody tr th {\n",
       "        vertical-align: top;\n",
       "    }\n",
       "\n",
       "    .dataframe thead th {\n",
       "        text-align: right;\n",
       "    }\n",
       "</style>\n",
       "<table border=\"1\" class=\"dataframe\">\n",
       "  <thead>\n",
       "    <tr style=\"text-align: right;\">\n",
       "      <th></th>\n",
       "      <th></th>\n",
       "      <th>success_rate</th>\n",
       "    </tr>\n",
       "    <tr>\n",
       "      <th>subject</th>\n",
       "      <th>trial</th>\n",
       "      <th></th>\n",
       "    </tr>\n",
       "  </thead>\n",
       "  <tbody>\n",
       "    <tr>\n",
       "      <th rowspan=\"3\" valign=\"top\">101B</th>\n",
       "      <th>1</th>\n",
       "      <td>0.900000</td>\n",
       "    </tr>\n",
       "    <tr>\n",
       "      <th>2</th>\n",
       "      <td>0.750000</td>\n",
       "    </tr>\n",
       "    <tr>\n",
       "      <th>5</th>\n",
       "      <td>0.761905</td>\n",
       "    </tr>\n",
       "  </tbody>\n",
       "</table>\n",
       "</div>"
      ],
      "text/plain": [
       "               success_rate\n",
       "subject trial              \n",
       "101B    1          0.900000\n",
       "        2          0.750000\n",
       "        5          0.761905"
      ]
     },
     "execution_count": 14,
     "metadata": {},
     "output_type": "execute_result"
    }
   ],
   "source": [
    "# calculating response success rate per trial\n",
    "success_per_trial = response_success[['subject', 'trial', 'correct']].groupby(['subject', 'trial']).mean()\n",
    "success_per_trial.rename(columns={'correct': 'success_rate'}, inplace=True)\n",
    "success_per_trial.head(3)\n"
   ]
  },
  {
   "cell_type": "code",
   "execution_count": 20,
   "metadata": {},
   "outputs": [
    {
     "name": "stdout",
     "output_type": "stream",
     "text": [
      "The following trials are outliers in term of trial success rate within subject:\n"
     ]
    },
    {
     "data": {
      "text/html": [
       "<div>\n",
       "<style scoped>\n",
       "    .dataframe tbody tr th:only-of-type {\n",
       "        vertical-align: middle;\n",
       "    }\n",
       "\n",
       "    .dataframe tbody tr th {\n",
       "        vertical-align: top;\n",
       "    }\n",
       "\n",
       "    .dataframe thead th {\n",
       "        text-align: right;\n",
       "    }\n",
       "</style>\n",
       "<table border=\"1\" class=\"dataframe\">\n",
       "  <thead>\n",
       "    <tr style=\"text-align: right;\">\n",
       "      <th></th>\n",
       "      <th></th>\n",
       "      <th>success_rate</th>\n",
       "    </tr>\n",
       "    <tr>\n",
       "      <th>subject</th>\n",
       "      <th>trial</th>\n",
       "      <th></th>\n",
       "    </tr>\n",
       "  </thead>\n",
       "  <tbody>\n",
       "    <tr>\n",
       "      <th rowspan=\"3\" valign=\"top\">101B</th>\n",
       "      <th>9</th>\n",
       "      <td>0.666667</td>\n",
       "    </tr>\n",
       "    <tr>\n",
       "      <th>2</th>\n",
       "      <td>0.750000</td>\n",
       "    </tr>\n",
       "    <tr>\n",
       "      <th>5</th>\n",
       "      <td>0.761905</td>\n",
       "    </tr>\n",
       "    <tr>\n",
       "      <th>103A</th>\n",
       "      <th>10</th>\n",
       "      <td>0.764706</td>\n",
       "    </tr>\n",
       "    <tr>\n",
       "      <th rowspan=\"3\" valign=\"top\">101B</th>\n",
       "      <th>1004</th>\n",
       "      <td>0.772727</td>\n",
       "    </tr>\n",
       "    <tr>\n",
       "      <th>10</th>\n",
       "      <td>0.833333</td>\n",
       "    </tr>\n",
       "    <tr>\n",
       "      <th>1012</th>\n",
       "      <td>0.833333</td>\n",
       "    </tr>\n",
       "    <tr>\n",
       "      <th>109B</th>\n",
       "      <th>1008</th>\n",
       "      <td>0.833333</td>\n",
       "    </tr>\n",
       "    <tr>\n",
       "      <th rowspan=\"3\" valign=\"top\">101B</th>\n",
       "      <th>1008</th>\n",
       "      <td>0.842105</td>\n",
       "    </tr>\n",
       "    <tr>\n",
       "      <th>6</th>\n",
       "      <td>0.850000</td>\n",
       "    </tr>\n",
       "    <tr>\n",
       "      <th>1003</th>\n",
       "      <td>0.857143</td>\n",
       "    </tr>\n",
       "    <tr>\n",
       "      <th rowspan=\"2\" valign=\"top\">109A</th>\n",
       "      <th>1003</th>\n",
       "      <td>0.857143</td>\n",
       "    </tr>\n",
       "    <tr>\n",
       "      <th>1011</th>\n",
       "      <td>0.875000</td>\n",
       "    </tr>\n",
       "    <tr>\n",
       "      <th>107B</th>\n",
       "      <th>1011</th>\n",
       "      <td>0.875000</td>\n",
       "    </tr>\n",
       "    <tr>\n",
       "      <th>106B</th>\n",
       "      <th>1012</th>\n",
       "      <td>0.875000</td>\n",
       "    </tr>\n",
       "    <tr>\n",
       "      <th>109B</th>\n",
       "      <th>1012</th>\n",
       "      <td>0.875000</td>\n",
       "    </tr>\n",
       "    <tr>\n",
       "      <th>102B</th>\n",
       "      <th>11</th>\n",
       "      <td>0.875000</td>\n",
       "    </tr>\n",
       "    <tr>\n",
       "      <th>102A</th>\n",
       "      <th>12</th>\n",
       "      <td>0.875000</td>\n",
       "    </tr>\n",
       "    <tr>\n",
       "      <th rowspan=\"2\" valign=\"top\">109A</th>\n",
       "      <th>9</th>\n",
       "      <td>0.882353</td>\n",
       "    </tr>\n",
       "    <tr>\n",
       "      <th>10</th>\n",
       "      <td>0.882353</td>\n",
       "    </tr>\n",
       "    <tr>\n",
       "      <th>102A</th>\n",
       "      <th>9</th>\n",
       "      <td>0.882353</td>\n",
       "    </tr>\n",
       "    <tr>\n",
       "      <th>104B</th>\n",
       "      <th>10</th>\n",
       "      <td>0.882353</td>\n",
       "    </tr>\n",
       "    <tr>\n",
       "      <th>106A</th>\n",
       "      <th>1001</th>\n",
       "      <td>0.888889</td>\n",
       "    </tr>\n",
       "    <tr>\n",
       "      <th>103A</th>\n",
       "      <th>2</th>\n",
       "      <td>0.888889</td>\n",
       "    </tr>\n",
       "    <tr>\n",
       "      <th>109A</th>\n",
       "      <th>1007</th>\n",
       "      <td>0.888889</td>\n",
       "    </tr>\n",
       "    <tr>\n",
       "      <th>103A</th>\n",
       "      <th>1</th>\n",
       "      <td>0.888889</td>\n",
       "    </tr>\n",
       "  </tbody>\n",
       "</table>\n",
       "</div>"
      ],
      "text/plain": [
       "               success_rate\n",
       "subject trial              \n",
       "101B    9          0.666667\n",
       "        2          0.750000\n",
       "        5          0.761905\n",
       "103A    10         0.764706\n",
       "101B    1004       0.772727\n",
       "        10         0.833333\n",
       "        1012       0.833333\n",
       "109B    1008       0.833333\n",
       "101B    1008       0.842105\n",
       "        6          0.850000\n",
       "        1003       0.857143\n",
       "109A    1003       0.857143\n",
       "        1011       0.875000\n",
       "107B    1011       0.875000\n",
       "106B    1012       0.875000\n",
       "109B    1012       0.875000\n",
       "102B    11         0.875000\n",
       "102A    12         0.875000\n",
       "109A    9          0.882353\n",
       "        10         0.882353\n",
       "102A    9          0.882353\n",
       "104B    10         0.882353\n",
       "106A    1001       0.888889\n",
       "103A    2          0.888889\n",
       "109A    1007       0.888889\n",
       "103A    1          0.888889"
      ]
     },
     "execution_count": 20,
     "metadata": {},
     "output_type": "execute_result"
    }
   ],
   "source": [
    "# actually finding the trial outliers in terms of success rate within subject\n",
    "trial_success_q1, trial_success_q3 = success_per_trial['success_rate'].quantile([0.25, 0.75])\n",
    "trial_success_iqr = trial_success_q1 - trial_success_q3\n",
    "outlier_trails_mask = success_per_trial['success_rate'].apply(is_outlier, args=(trial_success_q1, trial_success_q3, trial_success_iqr, 2))\n",
    "outlier_trails = success_per_trial[outlier_trails_mask]\n",
    "\n",
    "print(\"The following trials are outliers in term of trial success rate within subject:\")\n",
    "outlier_trails.sort_values(by='success_rate')"
   ]
  },
  {
   "attachments": {},
   "cell_type": "markdown",
   "metadata": {},
   "source": [
    "### 2.3. Single Steps Response-Time Within Subject"
   ]
  },
  {
   "cell_type": "code",
   "execution_count": 16,
   "metadata": {},
   "outputs": [
    {
     "data": {
      "text/html": [
       "<div>\n",
       "<style scoped>\n",
       "    .dataframe tbody tr th:only-of-type {\n",
       "        vertical-align: middle;\n",
       "    }\n",
       "\n",
       "    .dataframe tbody tr th {\n",
       "        vertical-align: top;\n",
       "    }\n",
       "\n",
       "    .dataframe thead th {\n",
       "        text-align: right;\n",
       "    }\n",
       "</style>\n",
       "<table border=\"1\" class=\"dataframe\">\n",
       "  <thead>\n",
       "    <tr style=\"text-align: right;\">\n",
       "      <th></th>\n",
       "      <th>q1</th>\n",
       "      <th>q3</th>\n",
       "      <th>iqr</th>\n",
       "    </tr>\n",
       "    <tr>\n",
       "      <th>subject</th>\n",
       "      <th></th>\n",
       "      <th></th>\n",
       "      <th></th>\n",
       "    </tr>\n",
       "  </thead>\n",
       "  <tbody>\n",
       "    <tr>\n",
       "      <th>101B</th>\n",
       "      <td>1207.0</td>\n",
       "      <td>2550.50</td>\n",
       "      <td>1343.50</td>\n",
       "    </tr>\n",
       "    <tr>\n",
       "      <th>102A</th>\n",
       "      <td>1245.0</td>\n",
       "      <td>3497.75</td>\n",
       "      <td>2252.75</td>\n",
       "    </tr>\n",
       "    <tr>\n",
       "      <th>102B</th>\n",
       "      <td>1045.0</td>\n",
       "      <td>2832.50</td>\n",
       "      <td>1787.50</td>\n",
       "    </tr>\n",
       "  </tbody>\n",
       "</table>\n",
       "</div>"
      ],
      "text/plain": [
       "             q1       q3      iqr\n",
       "subject                          \n",
       "101B     1207.0  2550.50  1343.50\n",
       "102A     1245.0  3497.75  2252.75\n",
       "102B     1045.0  2832.50  1787.50"
      ]
     },
     "execution_count": 16,
     "metadata": {},
     "output_type": "execute_result"
    }
   ],
   "source": [
    "# calculating response time quantiles and IQR per subject\n",
    "quantiles_per_subject = response_times[['rt', 'subject']].groupby('subject').quantile([0.25, 0.75]).unstack()\n",
    "quantiles_per_subject.columns = ['q1', 'q3']\n",
    "quantiles_per_subject['iqr'] = quantiles_per_subject['q3'] - quantiles_per_subject['q1']\n",
    "\n",
    "quantiles_per_subject.head(3)"
   ]
  },
  {
   "cell_type": "code",
   "execution_count": 17,
   "metadata": {},
   "outputs": [],
   "source": [
    "# finding if a step is an outlier in terms of response time within subject\n",
    "def is_subjective_outlier(step):\n",
    "    rt = step['rt']\n",
    "    subject = step['subject']\n",
    "        \n",
    "    subject_quantiles = quantiles_per_subject.loc[subject]\n",
    "    q1, q3, iqr = subject_quantiles['q1'], subject_quantiles['q3'], subject_quantiles['iqr']\n",
    "    return is_outlier(rt, q1, q3, iqr, 2)"
   ]
  },
  {
   "cell_type": "code",
   "execution_count": 18,
   "metadata": {},
   "outputs": [],
   "source": [
    "# filtering only outliers\n",
    "subjective_outlier_mask = response_times.apply(is_subjective_outlier, axis=1)\n",
    "outlier_steps = response_times[subjective_outlier_mask]"
   ]
  },
  {
   "cell_type": "code",
   "execution_count": 19,
   "metadata": {},
   "outputs": [
    {
     "data": {
      "text/html": [
       "<div>\n",
       "<style scoped>\n",
       "    .dataframe tbody tr th:only-of-type {\n",
       "        vertical-align: middle;\n",
       "    }\n",
       "\n",
       "    .dataframe tbody tr th {\n",
       "        vertical-align: top;\n",
       "    }\n",
       "\n",
       "    .dataframe thead th {\n",
       "        text-align: right;\n",
       "    }\n",
       "</style>\n",
       "<table border=\"1\" class=\"dataframe\">\n",
       "  <thead>\n",
       "    <tr style=\"text-align: right;\">\n",
       "      <th></th>\n",
       "      <th>subject</th>\n",
       "      <th>step_num</th>\n",
       "      <th>rt</th>\n",
       "      <th>q1</th>\n",
       "      <th>q3</th>\n",
       "      <th>iqr</th>\n",
       "    </tr>\n",
       "  </thead>\n",
       "  <tbody>\n",
       "    <tr>\n",
       "      <th>441</th>\n",
       "      <td>107B</td>\n",
       "      <td>441</td>\n",
       "      <td>4779</td>\n",
       "      <td>543.50</td>\n",
       "      <td>1825.75</td>\n",
       "      <td>1282.25</td>\n",
       "    </tr>\n",
       "    <tr>\n",
       "      <th>892</th>\n",
       "      <td>104B</td>\n",
       "      <td>430</td>\n",
       "      <td>5978</td>\n",
       "      <td>380.25</td>\n",
       "      <td>1829.50</td>\n",
       "      <td>1449.25</td>\n",
       "    </tr>\n",
       "    <tr>\n",
       "      <th>1147</th>\n",
       "      <td>106B</td>\n",
       "      <td>229</td>\n",
       "      <td>8350</td>\n",
       "      <td>824.25</td>\n",
       "      <td>3001.25</td>\n",
       "      <td>2177.00</td>\n",
       "    </tr>\n",
       "    <tr>\n",
       "      <th>1383</th>\n",
       "      <td>105B</td>\n",
       "      <td>7</td>\n",
       "      <td>8432</td>\n",
       "      <td>1464.00</td>\n",
       "      <td>3129.75</td>\n",
       "      <td>1665.75</td>\n",
       "    </tr>\n",
       "    <tr>\n",
       "      <th>1483</th>\n",
       "      <td>105B</td>\n",
       "      <td>107</td>\n",
       "      <td>7764</td>\n",
       "      <td>1464.00</td>\n",
       "      <td>3129.75</td>\n",
       "      <td>1665.75</td>\n",
       "    </tr>\n",
       "  </tbody>\n",
       "</table>\n",
       "</div>"
      ],
      "text/plain": [
       "     subject  step_num    rt       q1       q3      iqr\n",
       "441     107B       441  4779   543.50  1825.75  1282.25\n",
       "892     104B       430  5978   380.25  1829.50  1449.25\n",
       "1147    106B       229  8350   824.25  3001.25  2177.00\n",
       "1383    105B         7  8432  1464.00  3129.75  1665.75\n",
       "1483    105B       107  7764  1464.00  3129.75  1665.75"
      ]
     },
     "execution_count": 19,
     "metadata": {},
     "output_type": "execute_result"
    }
   ],
   "source": [
    "outlier_steps = outlier_steps.merge(quantiles_per_subject, how='left', left_on='subject', right_index=True)\n",
    "outlier_steps.head()"
   ]
  }
 ],
 "metadata": {
  "kernelspec": {
   "display_name": "Python 3",
   "language": "python",
   "name": "python3"
  },
  "language_info": {
   "codemirror_mode": {
    "name": "ipython",
    "version": 3
   },
   "file_extension": ".py",
   "mimetype": "text/x-python",
   "name": "python",
   "nbconvert_exporter": "python",
   "pygments_lexer": "ipython3",
   "version": "3.11.3"
  },
  "orig_nbformat": 4
 },
 "nbformat": 4,
 "nbformat_minor": 2
}
